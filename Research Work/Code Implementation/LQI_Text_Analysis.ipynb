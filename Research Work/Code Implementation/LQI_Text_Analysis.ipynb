{
 "cells": [
  {
   "cell_type": "markdown",
   "id": "249b1d78",
   "metadata": {},
   "source": [
    "# LQI-Induced Rating Prediction from Text Reviews\n",
    "This notebook implements the approach described in the research paper:\n",
    "**Estimating numerical scale ratings from text-based service reviews**.\n",
    "\n",
    "We'll use sentiment analysis and a simple machine learning model to predict Likert-scale ratings based on review text."
   ]
  },
  {
   "cell_type": "code",
   "execution_count": 24,
   "id": "f78980d8",
   "metadata": {},
   "outputs": [
    {
     "name": "stderr",
     "output_type": "stream",
     "text": [
      "[nltk_data] Downloading package punkt to\n",
      "[nltk_data]     C:\\Users\\ACER\\AppData\\Roaming\\nltk_data...\n",
      "[nltk_data]   Package punkt is already up-to-date!\n"
     ]
    }
   ],
   "source": [
    "# Import required packages\n",
    "import json\n",
    "import pandas as pd\n",
    "from afinn import Afinn\n",
    "from nltk.tokenize import sent_tokenize\n",
    "from sklearn.ensemble import GradientBoostingRegressor\n",
    "from sklearn.model_selection import train_test_split\n",
    "from sklearn.metrics import mean_squared_error\n",
    "\n",
    "# necessary tokenizer\n",
    "import nltk\n",
    "nltk.download('punkt')\n",
    "\n",
    "# Initialize sentiment analyzer\n",
    "afinn = Afinn()"
   ]
  },
  {
   "cell_type": "code",
   "execution_count": 25,
   "id": "de2ee39c",
   "metadata": {},
   "outputs": [],
   "source": [
    "lqi_dict = {\n",
    "    \"Tangibility\": [\"appearance\", \"desk\", \"touch\", \"facility\"],\n",
    "    \"Reliability\": [\"accurate\", \"reliable\", \"trust\", \"prompt\"],\n",
    "    \"Assurance\": [\"knowledgeable\", \"confidence\", \"secure\"],\n",
    "    \"Empathy\": [\"friendly\", \"helpful\", \"attention\", \"understanding\"]\n",
    "}"
   ]
  },
  {
   "cell_type": "code",
   "execution_count": 26,
   "id": "193e4a38",
   "metadata": {},
   "outputs": [],
   "source": [
    "def analyze_review(review):\n",
    "    result = {dim: [] for dim in lqi_dict}\n",
    "    sentences = sent_tokenize(review.lower())\n",
    "\n",
    "    for sent in sentences:\n",
    "        score = afinn.score(sent)\n",
    "        for dim, keywords in lqi_dict.items():\n",
    "            if any(word in sent for word in keywords):\n",
    "                result[dim].append(score)\n",
    "\n",
    "    result = {dim: (sum(scores)/len(scores) if scores else None) for dim, scores in result.items()}\n",
    "    return result"
   ]
  },
  {
   "cell_type": "code",
   "execution_count": null,
   "id": "7088cc6f",
   "metadata": {},
   "outputs": [
    {
     "name": "stderr",
     "output_type": "stream",
     "text": [
      "[nltk_data] Downloading package punkt_tab to\n",
      "[nltk_data]     C:\\Users\\ACER\\AppData\\Roaming\\nltk_data...\n",
      "[nltk_data]   Package punkt_tab is already up-to-date!\n"
     ]
    },
    {
     "data": {
      "text/plain": [
       "{'Tangibility': None, 'Reliability': None, 'Assurance': None, 'Empathy': None}"
      ]
     },
     "execution_count": 27,
     "metadata": {},
     "output_type": "execute_result"
    }
   ],
   "source": [
    "import nltk\n",
    "nltk.download('punkt_tab')\n",
    "\n",
    "sample_review = \"The front desk was extremely nice. The room was clean and the staff were very helpful.\"\n",
    "analyze_review(sample_review)"
   ]
  },
  {
   "cell_type": "code",
   "execution_count": 28,
   "id": "6badca09",
   "metadata": {},
   "outputs": [
    {
     "data": {
      "application/vnd.microsoft.datawrangler.viewer.v0+json": {
       "columns": [
        {
         "name": "index",
         "rawType": "int64",
         "type": "integer"
        },
        {
         "name": "review_text",
         "rawType": "object",
         "type": "string"
        },
        {
         "name": "tangibility_score",
         "rawType": "int64",
         "type": "integer"
        },
        {
         "name": "reliability_score",
         "rawType": "int64",
         "type": "integer"
        },
        {
         "name": "assurance_score",
         "rawType": "int64",
         "type": "integer"
        },
        {
         "name": "empathy_score",
         "rawType": "int64",
         "type": "integer"
        }
       ],
       "ref": "30d5fa92-630e-496a-8a3e-00842da85008",
       "rows": [
        [
         "0",
         "Great room and very clean. The front desk was helpful.",
         "6",
         "5",
         "6",
         "5"
        ],
        [
         "1",
         "Staff was rude and the bed was uncomfortable.",
         "2",
         "1",
         "2",
         "1"
        ],
        [
         "2",
         "Loved the facility, but the service could be more prompt.",
         "5",
         "3",
         "4",
         "3"
        ],
        [
         "3",
         "Friendly and welcoming team at the reception.",
         "4",
         "4",
         "5",
         "6"
        ],
        [
         "4",
         "Not very secure, felt ignored by the staff.",
         "2",
         "1",
         "1",
         "1"
        ]
       ],
       "shape": {
        "columns": 5,
        "rows": 5
       }
      },
      "text/html": [
       "<div>\n",
       "<style scoped>\n",
       "    .dataframe tbody tr th:only-of-type {\n",
       "        vertical-align: middle;\n",
       "    }\n",
       "\n",
       "    .dataframe tbody tr th {\n",
       "        vertical-align: top;\n",
       "    }\n",
       "\n",
       "    .dataframe thead th {\n",
       "        text-align: right;\n",
       "    }\n",
       "</style>\n",
       "<table border=\"1\" class=\"dataframe\">\n",
       "  <thead>\n",
       "    <tr style=\"text-align: right;\">\n",
       "      <th></th>\n",
       "      <th>review_text</th>\n",
       "      <th>tangibility_score</th>\n",
       "      <th>reliability_score</th>\n",
       "      <th>assurance_score</th>\n",
       "      <th>empathy_score</th>\n",
       "    </tr>\n",
       "  </thead>\n",
       "  <tbody>\n",
       "    <tr>\n",
       "      <th>0</th>\n",
       "      <td>Great room and very clean. The front desk was ...</td>\n",
       "      <td>6</td>\n",
       "      <td>5</td>\n",
       "      <td>6</td>\n",
       "      <td>5</td>\n",
       "    </tr>\n",
       "    <tr>\n",
       "      <th>1</th>\n",
       "      <td>Staff was rude and the bed was uncomfortable.</td>\n",
       "      <td>2</td>\n",
       "      <td>1</td>\n",
       "      <td>2</td>\n",
       "      <td>1</td>\n",
       "    </tr>\n",
       "    <tr>\n",
       "      <th>2</th>\n",
       "      <td>Loved the facility, but the service could be m...</td>\n",
       "      <td>5</td>\n",
       "      <td>3</td>\n",
       "      <td>4</td>\n",
       "      <td>3</td>\n",
       "    </tr>\n",
       "    <tr>\n",
       "      <th>3</th>\n",
       "      <td>Friendly and welcoming team at the reception.</td>\n",
       "      <td>4</td>\n",
       "      <td>4</td>\n",
       "      <td>5</td>\n",
       "      <td>6</td>\n",
       "    </tr>\n",
       "    <tr>\n",
       "      <th>4</th>\n",
       "      <td>Not very secure, felt ignored by the staff.</td>\n",
       "      <td>2</td>\n",
       "      <td>1</td>\n",
       "      <td>1</td>\n",
       "      <td>1</td>\n",
       "    </tr>\n",
       "  </tbody>\n",
       "</table>\n",
       "</div>"
      ],
      "text/plain": [
       "                                         review_text  tangibility_score  \\\n",
       "0  Great room and very clean. The front desk was ...                  6   \n",
       "1      Staff was rude and the bed was uncomfortable.                  2   \n",
       "2  Loved the facility, but the service could be m...                  5   \n",
       "3      Friendly and welcoming team at the reception.                  4   \n",
       "4        Not very secure, felt ignored by the staff.                  2   \n",
       "\n",
       "   reliability_score  assurance_score  empathy_score  \n",
       "0                  5                6              5  \n",
       "1                  1                2              1  \n",
       "2                  3                4              3  \n",
       "3                  4                5              6  \n",
       "4                  1                1              1  "
      ]
     },
     "execution_count": 28,
     "metadata": {},
     "output_type": "execute_result"
    }
   ],
   "source": [
    "data = {\n",
    "    'review_text': [\n",
    "        'Great room and very clean. The front desk was helpful.',\n",
    "        'Staff was rude and the bed was uncomfortable.',\n",
    "        'Loved the facility, but the service could be more prompt.',\n",
    "        'Friendly and welcoming team at the reception.',\n",
    "        'Not very secure, felt ignored by the staff.'\n",
    "    ],\n",
    "    'tangibility_score': [6, 2, 5, 4, 2],\n",
    "    'reliability_score': [5, 1, 3, 4, 1],\n",
    "    'assurance_score': [6, 2, 4, 5, 1],\n",
    "    'empathy_score': [5, 1, 3, 6, 1]\n",
    "}\n",
    "df = pd.DataFrame(data)\n",
    "df"
   ]
  },
  {
   "cell_type": "code",
   "execution_count": 29,
   "id": "72b66df1",
   "metadata": {},
   "outputs": [
    {
     "data": {
      "application/vnd.microsoft.datawrangler.viewer.v0+json": {
       "columns": [
        {
         "name": "index",
         "rawType": "int64",
         "type": "integer"
        },
        {
         "name": "review_text",
         "rawType": "object",
         "type": "string"
        },
        {
         "name": "tangibility_score",
         "rawType": "int64",
         "type": "integer"
        },
        {
         "name": "reliability_score",
         "rawType": "int64",
         "type": "integer"
        },
        {
         "name": "assurance_score",
         "rawType": "int64",
         "type": "integer"
        },
        {
         "name": "empathy_score",
         "rawType": "int64",
         "type": "integer"
        },
        {
         "name": "Tangibility",
         "rawType": "float64",
         "type": "float"
        },
        {
         "name": "Reliability",
         "rawType": "float64",
         "type": "float"
        },
        {
         "name": "Assurance",
         "rawType": "float64",
         "type": "float"
        },
        {
         "name": "Empathy",
         "rawType": "float64",
         "type": "float"
        }
       ],
       "ref": "3c8cb7e6-8a58-48e7-a6da-d801a2f1b464",
       "rows": [
        [
         "0",
         "Great room and very clean. The front desk was helpful.",
         "6",
         "5",
         "6",
         "5",
         "2.0",
         null,
         null,
         "2.0"
        ],
        [
         "1",
         "Staff was rude and the bed was uncomfortable.",
         "2",
         "1",
         "2",
         "1",
         null,
         null,
         null,
         null
        ],
        [
         "2",
         "Loved the facility, but the service could be more prompt.",
         "5",
         "3",
         "4",
         "3",
         "3.0",
         "3.0",
         null,
         null
        ],
        [
         "3",
         "Friendly and welcoming team at the reception.",
         "4",
         "4",
         "5",
         "6",
         null,
         null,
         null,
         "2.0"
        ],
        [
         "4",
         "Not very secure, felt ignored by the staff.",
         "2",
         "1",
         "1",
         "1",
         null,
         null,
         "0.0",
         null
        ]
       ],
       "shape": {
        "columns": 9,
        "rows": 5
       }
      },
      "text/html": [
       "<div>\n",
       "<style scoped>\n",
       "    .dataframe tbody tr th:only-of-type {\n",
       "        vertical-align: middle;\n",
       "    }\n",
       "\n",
       "    .dataframe tbody tr th {\n",
       "        vertical-align: top;\n",
       "    }\n",
       "\n",
       "    .dataframe thead th {\n",
       "        text-align: right;\n",
       "    }\n",
       "</style>\n",
       "<table border=\"1\" class=\"dataframe\">\n",
       "  <thead>\n",
       "    <tr style=\"text-align: right;\">\n",
       "      <th></th>\n",
       "      <th>review_text</th>\n",
       "      <th>tangibility_score</th>\n",
       "      <th>reliability_score</th>\n",
       "      <th>assurance_score</th>\n",
       "      <th>empathy_score</th>\n",
       "      <th>Tangibility</th>\n",
       "      <th>Reliability</th>\n",
       "      <th>Assurance</th>\n",
       "      <th>Empathy</th>\n",
       "    </tr>\n",
       "  </thead>\n",
       "  <tbody>\n",
       "    <tr>\n",
       "      <th>0</th>\n",
       "      <td>Great room and very clean. The front desk was ...</td>\n",
       "      <td>6</td>\n",
       "      <td>5</td>\n",
       "      <td>6</td>\n",
       "      <td>5</td>\n",
       "      <td>2.0</td>\n",
       "      <td>NaN</td>\n",
       "      <td>NaN</td>\n",
       "      <td>2.0</td>\n",
       "    </tr>\n",
       "    <tr>\n",
       "      <th>1</th>\n",
       "      <td>Staff was rude and the bed was uncomfortable.</td>\n",
       "      <td>2</td>\n",
       "      <td>1</td>\n",
       "      <td>2</td>\n",
       "      <td>1</td>\n",
       "      <td>NaN</td>\n",
       "      <td>NaN</td>\n",
       "      <td>NaN</td>\n",
       "      <td>NaN</td>\n",
       "    </tr>\n",
       "    <tr>\n",
       "      <th>2</th>\n",
       "      <td>Loved the facility, but the service could be m...</td>\n",
       "      <td>5</td>\n",
       "      <td>3</td>\n",
       "      <td>4</td>\n",
       "      <td>3</td>\n",
       "      <td>3.0</td>\n",
       "      <td>3.0</td>\n",
       "      <td>NaN</td>\n",
       "      <td>NaN</td>\n",
       "    </tr>\n",
       "    <tr>\n",
       "      <th>3</th>\n",
       "      <td>Friendly and welcoming team at the reception.</td>\n",
       "      <td>4</td>\n",
       "      <td>4</td>\n",
       "      <td>5</td>\n",
       "      <td>6</td>\n",
       "      <td>NaN</td>\n",
       "      <td>NaN</td>\n",
       "      <td>NaN</td>\n",
       "      <td>2.0</td>\n",
       "    </tr>\n",
       "    <tr>\n",
       "      <th>4</th>\n",
       "      <td>Not very secure, felt ignored by the staff.</td>\n",
       "      <td>2</td>\n",
       "      <td>1</td>\n",
       "      <td>1</td>\n",
       "      <td>1</td>\n",
       "      <td>NaN</td>\n",
       "      <td>NaN</td>\n",
       "      <td>0.0</td>\n",
       "      <td>NaN</td>\n",
       "    </tr>\n",
       "  </tbody>\n",
       "</table>\n",
       "</div>"
      ],
      "text/plain": [
       "                                         review_text  tangibility_score  \\\n",
       "0  Great room and very clean. The front desk was ...                  6   \n",
       "1      Staff was rude and the bed was uncomfortable.                  2   \n",
       "2  Loved the facility, but the service could be m...                  5   \n",
       "3      Friendly and welcoming team at the reception.                  4   \n",
       "4        Not very secure, felt ignored by the staff.                  2   \n",
       "\n",
       "   reliability_score  assurance_score  empathy_score  Tangibility  \\\n",
       "0                  5                6              5          2.0   \n",
       "1                  1                2              1          NaN   \n",
       "2                  3                4              3          3.0   \n",
       "3                  4                5              6          NaN   \n",
       "4                  1                1              1          NaN   \n",
       "\n",
       "   Reliability  Assurance  Empathy  \n",
       "0          NaN        NaN      2.0  \n",
       "1          NaN        NaN      NaN  \n",
       "2          3.0        NaN      NaN  \n",
       "3          NaN        NaN      2.0  \n",
       "4          NaN        0.0      NaN  "
      ]
     },
     "execution_count": 29,
     "metadata": {},
     "output_type": "execute_result"
    }
   ],
   "source": [
    "analyzed = df['review_text'].apply(analyze_review).apply(pd.Series)\n",
    "df = pd.concat([df, analyzed], axis=1)\n",
    "df"
   ]
  },
  {
   "cell_type": "code",
   "execution_count": 30,
   "id": "fa8285e2",
   "metadata": {},
   "outputs": [
    {
     "name": "stdout",
     "output_type": "stream",
     "text": [
      "MSE: 3.5716337987487826e-09\n"
     ]
    }
   ],
   "source": [
    "X = df[['Tangibility', 'Reliability', 'Assurance', 'Empathy']].fillna(0)\n",
    "y = df['tangibility_score']\n",
    "\n",
    "X_train, X_test, y_train, y_test = train_test_split(X, y, test_size=0.2, random_state=42)\n",
    "model = GradientBoostingRegressor()\n",
    "model.fit(X_train, y_train)\n",
    "\n",
    "# Evaluate model\n",
    "y_pred = model.predict(X_test)\n",
    "print('MSE:', mean_squared_error(y_test, y_pred))"
   ]
  },
  {
   "cell_type": "code",
   "execution_count": 31,
   "id": "3cb31d50",
   "metadata": {},
   "outputs": [],
   "source": [
    "import matplotlib.pyplot as plt\n",
    "import pandas as pd"
   ]
  },
  {
   "cell_type": "code",
   "execution_count": 32,
   "id": "a54e87c9",
   "metadata": {},
   "outputs": [],
   "source": [
    "comparison = pd.DataFrame({\n",
    "    'Actual': y_test.values,\n",
    "    'Predicted': y_pred\n",
    "})"
   ]
  },
  {
   "cell_type": "code",
   "execution_count": 33,
   "id": "898be4bf",
   "metadata": {},
   "outputs": [
    {
     "data": {
      "application/vnd.microsoft.datawrangler.viewer.v0+json": {
       "columns": [
        {
         "name": "index",
         "rawType": "int64",
         "type": "integer"
        },
        {
         "name": "Actual",
         "rawType": "int64",
         "type": "integer"
        },
        {
         "name": "Predicted",
         "rawType": "float64",
         "type": "float"
        }
       ],
       "ref": "0ef49969-90fd-458f-81ea-be482d815e4a",
       "rows": [
        [
         "0",
         "2",
         "2.000059763147497"
        ]
       ],
       "shape": {
        "columns": 2,
        "rows": 1
       }
      },
      "text/html": [
       "<div>\n",
       "<style scoped>\n",
       "    .dataframe tbody tr th:only-of-type {\n",
       "        vertical-align: middle;\n",
       "    }\n",
       "\n",
       "    .dataframe tbody tr th {\n",
       "        vertical-align: top;\n",
       "    }\n",
       "\n",
       "    .dataframe thead th {\n",
       "        text-align: right;\n",
       "    }\n",
       "</style>\n",
       "<table border=\"1\" class=\"dataframe\">\n",
       "  <thead>\n",
       "    <tr style=\"text-align: right;\">\n",
       "      <th></th>\n",
       "      <th>Actual</th>\n",
       "      <th>Predicted</th>\n",
       "    </tr>\n",
       "  </thead>\n",
       "  <tbody>\n",
       "    <tr>\n",
       "      <th>0</th>\n",
       "      <td>2</td>\n",
       "      <td>2.00006</td>\n",
       "    </tr>\n",
       "  </tbody>\n",
       "</table>\n",
       "</div>"
      ],
      "text/plain": [
       "   Actual  Predicted\n",
       "0       2    2.00006"
      ]
     },
     "execution_count": 33,
     "metadata": {},
     "output_type": "execute_result"
    }
   ],
   "source": [
    "comparison"
   ]
  },
  {
   "cell_type": "code",
   "execution_count": 34,
   "id": "e53ab929",
   "metadata": {},
   "outputs": [
    {
     "data": {
      "image/png": "[encoded data removed]",
      "text/plain": [
       "<Figure size 800x400 with 1 Axes>"
      ]
     },
     "metadata": {},
     "output_type": "display_data"
    }
   ],
   "source": [
    "comparison.plot(kind='bar', title='Actual vs Predicted Tangibility Scores', figsize=(8, 4), legend=True)\n",
    "plt.xlabel(\"Test Sample Index\")\n",
    "plt.ylabel(\"Tangibility Score\")\n",
    "plt.grid(True)\n",
    "plt.tight_layout()\n",
    "plt.show()"
   ]
  }
 ],
 "metadata": {
  "kernelspec": {
   "display_name": "Python 3",
   "language": "python",
   "name": "python3"
  },
  "language_info": {
   "codemirror_mode": {
    "name": "ipython",
    "version": 3
   },
   "file_extension": ".py",
   "mimetype": "text/x-python",
   "name": "python",
   "nbconvert_exporter": "python",
   "pygments_lexer": "ipython3",
   "version": "3.12.5"
  }
 },
 "nbformat": 4,
 "nbformat_minor": 5
}
