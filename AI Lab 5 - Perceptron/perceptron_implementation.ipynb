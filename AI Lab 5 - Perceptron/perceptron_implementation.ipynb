{
 "cells": [
  {
   "cell_type": "markdown",
   "id": "9c8f926f",
   "metadata": {},
   "source": [
    "### Perceptron Implementation with Python"
   ]
  },
  {
   "cell_type": "code",
   "execution_count": 11,
   "id": "cecd9913",
   "metadata": {},
   "outputs": [],
   "source": [
    "# Input Features\n",
    "# x1 and x2 represent the two input features.\n",
    "x1_x2 = [\n",
    "    [0, 0],\n",
    "    [0, 1],\n",
    "    [1, 0],\n",
    "    [1, 1]\n",
    "]"
   ]
  },
  {
   "cell_type": "code",
   "execution_count": 12,
   "id": "4816b6df",
   "metadata": {},
   "outputs": [],
   "source": [
    "# Target Outputs\n",
    "# Y_act represents the expected outputs for the OR logic.\n",
    "Y_act = [0, 1, 1, 1]"
   ]
  },
  {
   "cell_type": "code",
   "execution_count": 13,
   "id": "05561645",
   "metadata": {},
   "outputs": [],
   "source": [
    "# Given initial values\n",
    "w1 = 0.3\n",
    "w2 = -0.1\n",
    "Th = 0.2\n",
    "learning_rate = 0.1"
   ]
  },
  {
   "cell_type": "code",
   "execution_count": 14,
   "id": "5845c6ab",
   "metadata": {},
   "outputs": [],
   "source": [
    "# Activation Function\n",
    "def activation(Y_pred):\n",
    "    return 1 if Y_pred > Th else 0"
   ]
  },
  {
   "cell_type": "code",
   "execution_count": 15,
   "id": "16032678",
   "metadata": {},
   "outputs": [
    {
     "name": "stdout",
     "output_type": "stream",
     "text": [
      "\n",
      "Epoch 1\n",
      "x1  x2  Target Output Error w1     w2    \n",
      "0   0   0      0      0     0.30   -0.10 \n",
      "0   1   1      0      1     0.30   0.00  \n",
      "1   0   1      1      0     0.30   0.00  \n",
      "1   1   1      1      0     0.30   0.00  \n",
      "\n",
      "Epoch 2\n",
      "x1  x2  Target Output Error w1     w2    \n",
      "0   0   0      0      0     0.30   0.00  \n",
      "0   1   1      0      1     0.30   0.10  \n",
      "1   0   1      1      0     0.30   0.10  \n",
      "1   1   1      1      0     0.30   0.10  \n",
      "\n",
      "Epoch 3\n",
      "x1  x2  Target Output Error w1     w2    \n",
      "0   0   0      0      0     0.30   0.10  \n",
      "0   1   1      0      1     0.30   0.20  \n",
      "1   0   1      1      0     0.30   0.20  \n",
      "1   1   1      1      0     0.30   0.20  \n",
      "\n",
      "Epoch 4\n",
      "x1  x2  Target Output Error w1     w2    \n",
      "0   0   0      0      0     0.30   0.20  \n",
      "0   1   1      0      1     0.30   0.30  \n",
      "1   0   1      1      0     0.30   0.30  \n",
      "1   1   1      1      0     0.30   0.30  \n",
      "\n",
      "Epoch 5\n",
      "x1  x2  Target Output Error w1     w2    \n",
      "0   0   0      0      0     0.30   0.30  \n",
      "0   1   1      1      0     0.30   0.30  \n",
      "1   0   1      1      0     0.30   0.30  \n",
      "1   1   1      1      0     0.30   0.30  \n",
      "\n",
      "Training complete.\n",
      "\n",
      "Final weights: w1 = 0.30, w2 = 0.30\n",
      "Final threshold: 0.2\n"
     ]
    }
   ],
   "source": [
    "# Training\n",
    "epoch = 1\n",
    "while True:\n",
    "    print(f\"\\nEpoch {epoch}\")\n",
    "    error_count = 0\n",
    "    print(f\"{'x1':<3} {'x2':<3} {'Target':<6} {'Output':<6} {'Error':<5} {'w1':<6} {'w2':<6}\")\n",
    "    \n",
    "    for i in range(len(x1_x2)):\n",
    "        x1, x2 = x1_x2[i]\n",
    "        target = Y_act[i]\n",
    "        Y_pred = x1 * w1 + x2 * w2\n",
    "        output = activation(Y_pred)\n",
    "        error = target - output\n",
    "\n",
    "        # Update rule\n",
    "        w1 += learning_rate * error * x1\n",
    "        w2 += learning_rate * error * x2\n",
    "        error_count += abs(error)\n",
    "\n",
    "        print(f\"{x1:<3} {x2:<3} {target:<6} {output:<6} {error:<5} {w1:<6.2f} {w2:<6.2f}\")\n",
    "\n",
    "    if error_count == 0:\n",
    "        print(\"\\nTraining complete.\")\n",
    "        break\n",
    "    epoch += 1\n",
    "print(f\"\\nFinal weights: w1 = {w1:.2f}, w2 = {w2:.2f}\")\n",
    "print(f\"Final threshold: {Th}\")"
   ]
  }
 ],
 "metadata": {
  "kernelspec": {
   "display_name": "Python 3",
   "language": "python",
   "name": "python3"
  },
  "language_info": {
   "codemirror_mode": {
    "name": "ipython",
    "version": 3
   },
   "file_extension": ".py",
   "mimetype": "text/x-python",
   "name": "python",
   "nbconvert_exporter": "python",
   "pygments_lexer": "ipython3",
   "version": "3.12.5"
  }
 },
 "nbformat": 4,
 "nbformat_minor": 5
}
